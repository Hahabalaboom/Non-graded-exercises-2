import random

def hangman():
    print("Welcome to Hangman!")
    
    word_list = ["python", "hangman", "programming", "openai", "developer"]
    word_to_guess = random.choice(word_list)
    guessed_letters = set()
    attempts_left = 10
    
    while attempts_left > 0:
        display_word = ''.join([letter if letter in guessed_letters else '_' for letter in word_to_guess])
        print(f"\nWord to guess: {display_word}")
        print(f"Attempts left: {attempts_left}")
        
        guess = input("Enter a single letter: ").lower()
        
        if not guess.isalpha() or len(guess) != 1:
            print("Invalid Character. Please enter a single alphabet letter.")
            continue

        if guess in guessed_letters:
            print("You've already guessed that letter. Try again.")
            continue
        
        guessed_letters.add(guess)
        
        if guess in word_to_guess:
            print("Correct guess!")
        else:
            print("Incorrect guess!")
            attempts_left -= 1

        if all(letter in guessed_letters for letter in word_to_guess):
            print(f"Awesome! You guessed the word correctly: {word_to_guess}")
            break
    else:
        print(f"Sorry, you've run out of attempts. The word was: {word_to_guess}")

    if all(letter in guessed_letters for letter in word_to_guess):
        print("Thank you for playing. See you next time!")
    else:
        print("Thank you for playing. Better luck next time!")

hangman()
